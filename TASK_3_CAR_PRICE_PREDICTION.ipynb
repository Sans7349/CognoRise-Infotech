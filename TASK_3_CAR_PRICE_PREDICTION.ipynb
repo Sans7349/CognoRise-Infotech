{
  "nbformat": 4,
  "nbformat_minor": 0,
  "metadata": {
    "colab": {
      "provenance": [],
      "authorship_tag": "ABX9TyMbsmev7cTwSIuyNEtK6Ift",
      "include_colab_link": true
    },
    "kernelspec": {
      "name": "python3",
      "display_name": "Python 3"
    },
    "language_info": {
      "name": "python"
    }
  },
  "cells": [
    {
      "cell_type": "markdown",
      "metadata": {
        "id": "view-in-github",
        "colab_type": "text"
      },
      "source": [
        "<a href=\"https://colab.research.google.com/github/Sans7349/CognoRise-Infotech-/blob/main/TASK_3_CAR_PRICE_PREDICTION.ipynb\" target=\"_parent\"><img src=\"https://colab.research.google.com/assets/colab-badge.svg\" alt=\"Open In Colab\"/></a>"
      ]
    },
    {
      "cell_type": "code",
      "execution_count": null,
      "metadata": {
        "colab": {
          "base_uri": "https://localhost:8080/"
        },
        "id": "XcJBVTzJ2lzM",
        "outputId": "2d1d448e-6a55-4ef7-8067-383ff28b0029"
      },
      "outputs": [
        {
          "output_type": "stream",
          "name": "stdout",
          "text": [
            "Enter the number of predictions you want to see: 10\n",
            "\n",
            "Car Price Prediction 1: $35411.81\n",
            "\n",
            "Car Price Prediction 2: $18338.62\n",
            "\n",
            "Car Price Prediction 3: $9062.34\n",
            "\n",
            "Car Price Prediction 4: $13434.51\n",
            "\n",
            "Car Price Prediction 5: $27372.20\n",
            "\n",
            "Car Price Prediction 6: $6528.02\n",
            "\n",
            "Car Price Prediction 7: $7767.81\n",
            "\n",
            "Car Price Prediction 8: $8041.96\n",
            "\n",
            "Car Price Prediction 9: $10018.11\n",
            "\n",
            "Car Price Prediction 10: $8201.34\n",
            "\n",
            "Root Mean Squared Error (RMSE): $1823.91\n"
          ]
        }
      ],
      "source": [
        "import pandas as pd\n",
        "from sklearn.model_selection import train_test_split\n",
        "from sklearn.preprocessing import LabelEncoder\n",
        "from sklearn.ensemble import RandomForestRegressor\n",
        "from sklearn.metrics import mean_squared_error\n",
        "import numpy as np\n",
        "file_path = '/content/CarPrice_Assignment.csv'\n",
        "car_data = pd.read_csv(file_path)\n",
        "car_data = car_data.drop(['car_ID', 'CarName'], axis=1)\n",
        "label_encoders = {}\n",
        "categorical_columns = car_data.select_dtypes(include=['object']).columns\n",
        "for column in categorical_columns:\n",
        "    le = LabelEncoder()\n",
        "    car_data[column] = le.fit_transform(car_data[column])\n",
        "    label_encoders[column] = le\n",
        "X = car_data.drop('price', axis=1)\n",
        "y = car_data['price']\n",
        "X_train, X_test, y_train, y_test = train_test_split(X, y, test_size=0.2, random_state=42)\n",
        "\n",
        "# Train a RandomForestRegressor model\n",
        "model = RandomForestRegressor(random_state=42)\n",
        "model.fit(X_train, y_train)\n",
        "\n",
        "# Predict and evaluate the model\n",
        "y_pred = model.predict(X_test)\n",
        "mse = mean_squared_error(y_test, y_pred)\n",
        "rmse = np.sqrt(mse)\n",
        "\n",
        "# Function to display a specified number of predictions\n",
        "def show_predictions(num_predictions):\n",
        "    predictions = y_pred[:num_predictions]\n",
        "    for i, price in enumerate(predictions, 1):\n",
        "        print(f'\\nCar Price Prediction {i}: ${price:.2f}')\n",
        "    print(f'\\nRoot Mean Squared Error (RMSE): ${rmse:.2f}')\n",
        "\n",
        "# Ask the user for the number of predictions to display\n",
        "num_predictions = int(input(\"Enter the number of predictions you want to see: \"))\n",
        "show_predictions(num_predictions)\n"
      ]
    }
  ]
}